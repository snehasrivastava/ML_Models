{
 "cells": [
  {
   "cell_type": "code",
   "execution_count": 22,
   "metadata": {},
   "outputs": [],
   "source": [
    "import numpy as np\n",
    "import matplotlib.pyplot as plt\n",
    "import pandas as pd\n",
    "from sklearn.preprocessing import LabelEncoder, OneHotEncoder\n",
    "from sklearn.model_selection import train_test_split\n",
    "from sklearn.preprocessing import StandardScaler\n",
    "from sklearn.metrics import confusion_matrix\n",
    "import keras\n",
    "from keras.models import Sequential\n",
    "from keras.layers import Dense"
   ]
  },
  {
   "cell_type": "code",
   "execution_count": 2,
   "metadata": {},
   "outputs": [],
   "source": [
    "#Import the Dataset\n",
    "dataset = pd.read_csv(\"Churn_Modelling.csv\")\n",
    "X = dataset.iloc[:, 3:13].values\n",
    "Y = dataset.iloc[:,13].values"
   ]
  },
  {
   "cell_type": "code",
   "execution_count": 3,
   "metadata": {},
   "outputs": [
    {
     "name": "stderr",
     "output_type": "stream",
     "text": [
      "C:\\ProgramData\\Anaconda3\\lib\\site-packages\\sklearn\\preprocessing\\_encoders.py:371: FutureWarning: The handling of integer data will change in version 0.22. Currently, the categories are determined based on the range [0, max(values)], while in the future they will be determined based on the unique values.\n",
      "If you want the future behaviour and silence this warning, you can specify \"categories='auto'\".\n",
      "In case you used a LabelEncoder before this OneHotEncoder to convert the categories to integers, then you can now use the OneHotEncoder directly.\n",
      "  warnings.warn(msg, FutureWarning)\n",
      "C:\\ProgramData\\Anaconda3\\lib\\site-packages\\sklearn\\preprocessing\\_encoders.py:392: DeprecationWarning: The 'categorical_features' keyword is deprecated in version 0.20 and will be removed in 0.22. You can use the ColumnTransformer instead.\n",
      "  \"use the ColumnTransformer instead.\", DeprecationWarning)\n"
     ]
    }
   ],
   "source": [
    "label_encoder1= LabelEncoder()\n",
    "X[:, 1]= label_encoder1.fit_transform(X[:, 1])\n",
    "label_encoder2= LabelEncoder()\n",
    "X[:, 2]= label_encoder1.fit_transform(X[:, 2])\n",
    "onehotencoder = OneHotEncoder(categorical_features= [1])\n",
    "X = onehotencoder.fit_transform(X).toarray()\n",
    "X = X[:, 1:]"
   ]
  },
  {
   "cell_type": "code",
   "execution_count": 10,
   "metadata": {},
   "outputs": [],
   "source": [
    "#Splitting the dataset into training and testing\n",
    "train_x, test_x,train_y, test_y = train_test_split(X, Y, test_size = 0.2, random_state = 0)"
   ]
  },
  {
   "cell_type": "code",
   "execution_count": 11,
   "metadata": {},
   "outputs": [
    {
     "data": {
      "text/plain": [
       "array([[-0.5698444 ,  1.74309049,  0.16958176, ...,  0.64259497,\n",
       "        -1.03227043,  1.10643166],\n",
       "       [ 1.75486502, -0.57369368, -2.30455945, ...,  0.64259497,\n",
       "         0.9687384 , -0.74866447],\n",
       "       [-0.5698444 , -0.57369368, -1.19119591, ...,  0.64259497,\n",
       "        -1.03227043,  1.48533467],\n",
       "       ...,\n",
       "       [-0.5698444 , -0.57369368,  0.9015152 , ...,  0.64259497,\n",
       "        -1.03227043,  1.41231994],\n",
       "       [-0.5698444 ,  1.74309049, -0.62420521, ...,  0.64259497,\n",
       "         0.9687384 ,  0.84432121],\n",
       "       [ 1.75486502, -0.57369368, -0.28401079, ...,  0.64259497,\n",
       "        -1.03227043,  0.32472465]])"
      ]
     },
     "execution_count": 11,
     "metadata": {},
     "output_type": "execute_result"
    }
   ],
   "source": [
    "sc = StandardScaler()\n",
    "train_x= sc.fit_transform(train_x)\n",
    "test_x= sc.fit_transform(test_x)\n",
    "train_x"
   ]
  },
  {
   "cell_type": "code",
   "execution_count": 13,
   "metadata": {},
   "outputs": [],
   "source": [
    "#Initializing the ANN\n",
    "classifier = Sequential()"
   ]
  },
  {
   "cell_type": "code",
   "execution_count": 15,
   "metadata": {},
   "outputs": [
    {
     "name": "stderr",
     "output_type": "stream",
     "text": [
      "C:\\ProgramData\\Anaconda3\\lib\\site-packages\\ipykernel_launcher.py:2: UserWarning: Update your `Dense` call to the Keras 2 API: `Dense(activation=\"relu\", input_dim=11, units=6, kernel_initializer=\"uniform\")`\n",
      "  \n"
     ]
    }
   ],
   "source": [
    "# Adding the input layer and the first hidden layer\n",
    "classifier.add(Dense(output_dim = 6, init = 'uniform', activation = 'relu', input_dim = 11))"
   ]
  },
  {
   "cell_type": "code",
   "execution_count": 16,
   "metadata": {},
   "outputs": [
    {
     "name": "stderr",
     "output_type": "stream",
     "text": [
      "C:\\ProgramData\\Anaconda3\\lib\\site-packages\\ipykernel_launcher.py:2: UserWarning: Update your `Dense` call to the Keras 2 API: `Dense(activation=\"relu\", units=6, kernel_initializer=\"uniform\")`\n",
      "  \n"
     ]
    }
   ],
   "source": [
    "# Adding the 2nd hidden layer\n",
    "classifier.add(Dense(output_dim = 6, init = 'uniform', activation = 'relu'))"
   ]
  },
  {
   "cell_type": "code",
   "execution_count": 17,
   "metadata": {},
   "outputs": [
    {
     "name": "stderr",
     "output_type": "stream",
     "text": [
      "C:\\ProgramData\\Anaconda3\\lib\\site-packages\\ipykernel_launcher.py:2: UserWarning: Update your `Dense` call to the Keras 2 API: `Dense(activation=\"sigmoid\", units=1, kernel_initializer=\"uniform\")`\n",
      "  \n"
     ]
    }
   ],
   "source": [
    "# Adding the output layer\n",
    "classifier.add(Dense(output_dim = 1, init = 'uniform', activation = 'sigmoid'))"
   ]
  },
  {
   "cell_type": "code",
   "execution_count": 18,
   "metadata": {},
   "outputs": [],
   "source": [
    "#Compiling the ANN\n",
    "classifier.compile(optimizer='adam', loss= 'binary_crossentropy' , metrics = ['accuracy'] )"
   ]
  },
  {
   "cell_type": "code",
   "execution_count": 20,
   "metadata": {},
   "outputs": [
    {
     "name": "stdout",
     "output_type": "stream",
     "text": [
      "WARNING:tensorflow:From C:\\ProgramData\\Anaconda3\\lib\\site-packages\\tensorflow\\python\\ops\\math_ops.py:3066: to_int32 (from tensorflow.python.ops.math_ops) is deprecated and will be removed in a future version.\n",
      "Instructions for updating:\n",
      "Use tf.cast instead.\n",
      "Epoch 1/100\n",
      "8000/8000 [==============================] - 5s 594us/step - loss: 0.4954 - acc: 0.7955\n",
      "Epoch 2/100\n",
      "8000/8000 [==============================] - 2s 291us/step - loss: 0.4318 - acc: 0.7960\n",
      "Epoch 3/100\n",
      "8000/8000 [==============================] - 3s 381us/step - loss: 0.4286 - acc: 0.7960\n",
      "Epoch 4/100\n",
      "8000/8000 [==============================] - 3s 414us/step - loss: 0.4267 - acc: 0.7960\n",
      "Epoch 5/100\n",
      "8000/8000 [==============================] - 4s 489us/step - loss: 0.4228 - acc: 0.8096\n",
      "Epoch 6/100\n",
      "8000/8000 [==============================] - ETA: 0s - loss: 0.4194 - acc: 0.822 - 4s 440us/step - loss: 0.4191 - acc: 0.8226\n",
      "Epoch 7/100\n",
      "8000/8000 [==============================] - 3s 436us/step - loss: 0.4164 - acc: 0.8242\n",
      "Epoch 8/100\n",
      "8000/8000 [==============================] - 3s 434us/step - loss: 0.4141 - acc: 0.8277\n",
      "Epoch 9/100\n",
      "8000/8000 [==============================] - 3s 364us/step - loss: 0.4132 - acc: 0.8309\n",
      "Epoch 10/100\n",
      "8000/8000 [==============================] - 3s 374us/step - loss: 0.4119 - acc: 0.8294\n",
      "Epoch 11/100\n",
      "8000/8000 [==============================] - 3s 330us/step - loss: 0.4104 - acc: 0.8336\n",
      "Epoch 12/100\n",
      "8000/8000 [==============================] - 2s 309us/step - loss: 0.4100 - acc: 0.8340\n",
      "Epoch 13/100\n",
      "8000/8000 [==============================] - 3s 374us/step - loss: 0.4088 - acc: 0.8321\n",
      "Epoch 14/100\n",
      "8000/8000 [==============================] - 3s 365us/step - loss: 0.4081 - acc: 0.8335\n",
      "Epoch 15/100\n",
      "8000/8000 [==============================] - 3s 378us/step - loss: 0.4076 - acc: 0.8326\n",
      "Epoch 16/100\n",
      "8000/8000 [==============================] - 3s 329us/step - loss: 0.4069 - acc: 0.8336\n",
      "Epoch 17/100\n",
      "8000/8000 [==============================] - 2s 286us/step - loss: 0.4067 - acc: 0.8341\n",
      "Epoch 18/100\n",
      "8000/8000 [==============================] - 2s 288us/step - loss: 0.4065 - acc: 0.8335\n",
      "Epoch 19/100\n",
      "8000/8000 [==============================] - 3s 336us/step - loss: 0.4062 - acc: 0.8336\n",
      "Epoch 20/100\n",
      "8000/8000 [==============================] - 3s 323us/step - loss: 0.4051 - acc: 0.8337\n",
      "Epoch 21/100\n",
      "8000/8000 [==============================] - 3s 322us/step - loss: 0.4060 - acc: 0.8327\n",
      "Epoch 22/100\n",
      "8000/8000 [==============================] - 3s 388us/step - loss: 0.4050 - acc: 0.8334\n",
      "Epoch 23/100\n",
      "8000/8000 [==============================] - 3s 413us/step - loss: 0.4047 - acc: 0.8329 0s - loss: 0.4054 - acc: 0.\n",
      "Epoch 24/100\n",
      "8000/8000 [==============================] - 3s 404us/step - loss: 0.4048 - acc: 0.8345\n",
      "Epoch 25/100\n",
      "8000/8000 [==============================] - 3s 430us/step - loss: 0.4044 - acc: 0.8329\n",
      "Epoch 26/100\n",
      "8000/8000 [==============================] - 3s 425us/step - loss: 0.4037 - acc: 0.8322\n",
      "Epoch 27/100\n",
      "8000/8000 [==============================] - 4s 449us/step - loss: 0.4043 - acc: 0.8351\n",
      "Epoch 28/100\n",
      "8000/8000 [==============================] - 3s 437us/step - loss: 0.4037 - acc: 0.8347\n",
      "Epoch 29/100\n",
      "8000/8000 [==============================] - 4s 464us/step - loss: 0.4042 - acc: 0.8345\n",
      "Epoch 30/100\n",
      "8000/8000 [==============================] - 3s 367us/step - loss: 0.4038 - acc: 0.8337 3s - loss: 0.4535\n",
      "Epoch 31/100\n",
      "8000/8000 [==============================] - 3s 327us/step - loss: 0.4038 - acc: 0.8337\n",
      "Epoch 32/100\n",
      "8000/8000 [==============================] - 3s 321us/step - loss: 0.4032 - acc: 0.8330\n",
      "Epoch 33/100\n",
      "8000/8000 [==============================] - 2s 289us/step - loss: 0.4031 - acc: 0.8335\n",
      "Epoch 34/100\n",
      "8000/8000 [==============================] - 2s 291us/step - loss: 0.4026 - acc: 0.8334\n",
      "Epoch 35/100\n",
      "8000/8000 [==============================] - 3s 337us/step - loss: 0.4030 - acc: 0.8341\n",
      "Epoch 36/100\n",
      "8000/8000 [==============================] - 3s 325us/step - loss: 0.4023 - acc: 0.8344\n",
      "Epoch 37/100\n",
      "8000/8000 [==============================] - 3s 326us/step - loss: 0.4021 - acc: 0.8347\n",
      "Epoch 38/100\n",
      "8000/8000 [==============================] - 3s 320us/step - loss: 0.4024 - acc: 0.8340\n",
      "Epoch 39/100\n",
      "8000/8000 [==============================] - 2s 288us/step - loss: 0.4027 - acc: 0.8356\n",
      "Epoch 40/100\n",
      "8000/8000 [==============================] - 2s 309us/step - loss: 0.4019 - acc: 0.8339\n",
      "Epoch 41/100\n",
      "8000/8000 [==============================] - 3s 326us/step - loss: 0.4027 - acc: 0.8346\n",
      "Epoch 42/100\n",
      "8000/8000 [==============================] - 3s 329us/step - loss: 0.4022 - acc: 0.8349\n",
      "Epoch 43/100\n",
      "8000/8000 [==============================] - 3s 326us/step - loss: 0.4020 - acc: 0.8349\n",
      "Epoch 44/100\n",
      "8000/8000 [==============================] - 3s 324us/step - loss: 0.4019 - acc: 0.8350\n",
      "Epoch 45/100\n",
      "8000/8000 [==============================] - 2s 287us/step - loss: 0.4017 - acc: 0.8345\n",
      "Epoch 46/100\n",
      "8000/8000 [==============================] - 2s 287us/step - loss: 0.4023 - acc: 0.8356\n",
      "Epoch 47/100\n",
      "8000/8000 [==============================] - 2s 311us/step - loss: 0.4016 - acc: 0.8334\n",
      "Epoch 48/100\n",
      "8000/8000 [==============================] - 3s 355us/step - loss: 0.4018 - acc: 0.8347\n",
      "Epoch 49/100\n",
      "8000/8000 [==============================] - 3s 325us/step - loss: 0.4015 - acc: 0.8346\n",
      "Epoch 50/100\n",
      "8000/8000 [==============================] - 3s 330us/step - loss: 0.4013 - acc: 0.8342\n",
      "Epoch 51/100\n",
      "8000/8000 [==============================] - 3s 343us/step - loss: 0.4018 - acc: 0.8345\n",
      "Epoch 52/100\n",
      "8000/8000 [==============================] - 3s 352us/step - loss: 0.4007 - acc: 0.8352\n",
      "Epoch 53/100\n",
      "8000/8000 [==============================] - 3s 316us/step - loss: 0.4011 - acc: 0.8354\n",
      "Epoch 54/100\n",
      "8000/8000 [==============================] - 3s 389us/step - loss: 0.4018 - acc: 0.8349\n",
      "Epoch 55/100\n",
      "8000/8000 [==============================] - 3s 357us/step - loss: 0.4014 - acc: 0.8351\n",
      "Epoch 56/100\n",
      "8000/8000 [==============================] - 3s 347us/step - loss: 0.4012 - acc: 0.8345\n",
      "Epoch 57/100\n",
      "8000/8000 [==============================] - 2s 277us/step - loss: 0.4013 - acc: 0.8351\n",
      "Epoch 58/100\n",
      "8000/8000 [==============================] - 3s 346us/step - loss: 0.4016 - acc: 0.8356\n",
      "Epoch 59/100\n",
      "8000/8000 [==============================] - 3s 414us/step - loss: 0.4011 - acc: 0.8355\n",
      "Epoch 60/100\n",
      "8000/8000 [==============================] - 3s 374us/step - loss: 0.4015 - acc: 0.8355\n",
      "Epoch 61/100\n",
      "8000/8000 [==============================] - 3s 423us/step - loss: 0.4014 - acc: 0.8329\n",
      "Epoch 62/100\n",
      "8000/8000 [==============================] - 5s 564us/step - loss: 0.4012 - acc: 0.8346\n",
      "Epoch 63/100\n",
      "8000/8000 [==============================] - 3s 417us/step - loss: 0.4014 - acc: 0.8337\n",
      "Epoch 64/100\n",
      "8000/8000 [==============================] - 4s 504us/step - loss: 0.4009 - acc: 0.8356\n",
      "Epoch 65/100\n",
      "8000/8000 [==============================] - 3s 429us/step - loss: 0.4016 - acc: 0.8356\n",
      "Epoch 66/100\n",
      "8000/8000 [==============================] - 3s 405us/step - loss: 0.4016 - acc: 0.8342\n",
      "Epoch 67/100\n",
      "8000/8000 [==============================] - 3s 415us/step - loss: 0.4007 - acc: 0.8344\n",
      "Epoch 68/100\n",
      "8000/8000 [==============================] - 3s 394us/step - loss: 0.4012 - acc: 0.8334\n",
      "Epoch 69/100\n",
      "8000/8000 [==============================] - 3s 434us/step - loss: 0.4016 - acc: 0.8346\n",
      "Epoch 70/100\n",
      "8000/8000 [==============================] - 4s 442us/step - loss: 0.4006 - acc: 0.8366\n",
      "Epoch 71/100\n",
      "8000/8000 [==============================] - 3s 417us/step - loss: 0.4012 - acc: 0.8354\n",
      "Epoch 72/100\n",
      "8000/8000 [==============================] - 3s 389us/step - loss: 0.4006 - acc: 0.8354\n",
      "Epoch 73/100\n",
      "8000/8000 [==============================] - 3s 404us/step - loss: 0.4010 - acc: 0.8341\n",
      "Epoch 74/100\n",
      "8000/8000 [==============================] - 3s 332us/step - loss: 0.4005 - acc: 0.8345\n",
      "Epoch 75/100\n",
      "8000/8000 [==============================] - 2s 287us/step - loss: 0.4006 - acc: 0.8356\n",
      "Epoch 76/100\n",
      "8000/8000 [==============================] - 2s 255us/step - loss: 0.4009 - acc: 0.8351\n",
      "Epoch 77/100\n",
      "8000/8000 [==============================] - 2s 225us/step - loss: 0.4013 - acc: 0.8345\n",
      "Epoch 78/100\n"
     ]
    },
    {
     "name": "stdout",
     "output_type": "stream",
     "text": [
      "8000/8000 [==============================] - 2s 232us/step - loss: 0.4002 - acc: 0.8339\n",
      "Epoch 79/100\n",
      "8000/8000 [==============================] - 2s 231us/step - loss: 0.4014 - acc: 0.8356\n",
      "Epoch 80/100\n",
      "8000/8000 [==============================] - 2s 222us/step - loss: 0.4002 - acc: 0.8361\n",
      "Epoch 81/100\n",
      "8000/8000 [==============================] - 2s 290us/step - loss: 0.4010 - acc: 0.8336\n",
      "Epoch 82/100\n",
      "8000/8000 [==============================] - 2s 286us/step - loss: 0.4004 - acc: 0.8350\n",
      "Epoch 83/100\n",
      "8000/8000 [==============================] - 3s 317us/step - loss: 0.4007 - acc: 0.8369\n",
      "Epoch 84/100\n",
      "8000/8000 [==============================] - 2s 223us/step - loss: 0.4008 - acc: 0.8360\n",
      "Epoch 85/100\n",
      "8000/8000 [==============================] - 2s 225us/step - loss: 0.4010 - acc: 0.8352\n",
      "Epoch 86/100\n",
      "8000/8000 [==============================] - 2s 265us/step - loss: 0.4008 - acc: 0.8352\n",
      "Epoch 87/100\n",
      "8000/8000 [==============================] - 2s 227us/step - loss: 0.4011 - acc: 0.8361\n",
      "Epoch 88/100\n",
      "8000/8000 [==============================] - 2s 240us/step - loss: 0.4007 - acc: 0.8346\n",
      "Epoch 89/100\n",
      "8000/8000 [==============================] - 2s 290us/step - loss: 0.4007 - acc: 0.8355\n",
      "Epoch 90/100\n",
      "8000/8000 [==============================] - 2s 287us/step - loss: 0.4010 - acc: 0.8337\n",
      "Epoch 91/100\n",
      "8000/8000 [==============================] - 2s 272us/step - loss: 0.4010 - acc: 0.8342\n",
      "Epoch 92/100\n",
      "8000/8000 [==============================] - 2s 223us/step - loss: 0.4005 - acc: 0.8347\n",
      "Epoch 93/100\n",
      "8000/8000 [==============================] - 2s 223us/step - loss: 0.4010 - acc: 0.8361\n",
      "Epoch 94/100\n",
      "8000/8000 [==============================] - 2s 236us/step - loss: 0.4008 - acc: 0.8352\n",
      "Epoch 95/100\n",
      "8000/8000 [==============================] - 2s 223us/step - loss: 0.4007 - acc: 0.8351\n",
      "Epoch 96/100\n",
      "8000/8000 [==============================] - 2s 241us/step - loss: 0.4008 - acc: 0.8345\n",
      "Epoch 97/100\n",
      "8000/8000 [==============================] - 3s 330us/step - loss: 0.4005 - acc: 0.8335\n",
      "Epoch 98/100\n",
      "8000/8000 [==============================] - 2s 308us/step - loss: 0.3999 - acc: 0.8346\n",
      "Epoch 99/100\n",
      "8000/8000 [==============================] - 2s 283us/step - loss: 0.4001 - acc: 0.8347\n",
      "Epoch 100/100\n",
      "8000/8000 [==============================] - 2s 240us/step - loss: 0.4011 - acc: 0.8346\n"
     ]
    },
    {
     "data": {
      "text/plain": [
       "<keras.callbacks.History at 0x2313c045fd0>"
      ]
     },
     "execution_count": 20,
     "metadata": {},
     "output_type": "execute_result"
    }
   ],
   "source": [
    "# Fitting the ANN to the Training set\n",
    "classifier.fit(train_x, train_y, batch_size=10, epochs = 100)"
   ]
  },
  {
   "cell_type": "code",
   "execution_count": 21,
   "metadata": {},
   "outputs": [
    {
     "data": {
      "text/plain": [
       "array([[False],\n",
       "       [False],\n",
       "       [False],\n",
       "       ...,\n",
       "       [False],\n",
       "       [False],\n",
       "       [False]])"
      ]
     },
     "execution_count": 21,
     "metadata": {},
     "output_type": "execute_result"
    }
   ],
   "source": [
    "# Predicting the Test set results\n",
    "y_pred = classifier.predict(test_x)\n",
    "y_pred = (y_pred > 0.5)\n",
    "y_pred"
   ]
  },
  {
   "cell_type": "code",
   "execution_count": 24,
   "metadata": {},
   "outputs": [
    {
     "data": {
      "text/plain": [
       "array([[1548,   47],\n",
       "       [ 280,  125]], dtype=int64)"
      ]
     },
     "execution_count": 24,
     "metadata": {},
     "output_type": "execute_result"
    }
   ],
   "source": [
    "#Making the Confusion_Matrix\n",
    "cm = confusion_matrix(test_y, y_pred)\n",
    "cm"
   ]
  },
  {
   "cell_type": "code",
   "execution_count": 25,
   "metadata": {},
   "outputs": [
    {
     "data": {
      "text/plain": [
       "1548.0625"
      ]
     },
     "execution_count": 25,
     "metadata": {},
     "output_type": "execute_result"
    }
   ],
   "source": [
    "1548+125/2000"
   ]
  },
  {
   "cell_type": "code",
   "execution_count": null,
   "metadata": {},
   "outputs": [],
   "source": []
  }
 ],
 "metadata": {
  "kernelspec": {
   "display_name": "Python 3",
   "language": "python",
   "name": "python3"
  },
  "language_info": {
   "codemirror_mode": {
    "name": "ipython",
    "version": 3
   },
   "file_extension": ".py",
   "mimetype": "text/x-python",
   "name": "python",
   "nbconvert_exporter": "python",
   "pygments_lexer": "ipython3",
   "version": "3.7.3"
  }
 },
 "nbformat": 4,
 "nbformat_minor": 2
}
